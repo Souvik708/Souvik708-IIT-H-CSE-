{
 "cells": [
  {
   "cell_type": "code",
   "execution_count": 1,
   "metadata": {},
   "outputs": [],
   "source": [
    "from collections import Counter\n",
    "import string\n",
    "import math\n",
    "import re"
   ]
  },
  {
   "cell_type": "markdown",
   "metadata": {},
   "source": [
    "for preprocessing the text, remove all the punctuation"
   ]
  },
  {
   "cell_type": "code",
   "execution_count": 2,
   "metadata": {},
   "outputs": [],
   "source": [
    "def preprocess_text(text):\n",
    "    # Convert text to lowercase\n",
    "    text = text.lower()\n",
    "    \n",
    "    # Remove punctuation\n",
    "    text = text.translate(str.maketrans('', '', string.punctuation))\n",
    "    \n",
    "    return text\n"
   ]
  },
  {
   "cell_type": "code",
   "execution_count": 3,
   "metadata": {},
   "outputs": [],
   "source": [
    "example_text = \"Hello, World! This is an example text, with punctuation.\"\n",
    "processed_text = preprocess_text(example_text)\n"
   ]
  },
  {
   "cell_type": "code",
   "execution_count": 4,
   "metadata": {},
   "outputs": [
    {
     "name": "stdout",
     "output_type": "stream",
     "text": [
      "Original Text:\n",
      "Hello, World! This is an example text, with punctuation.\n",
      "\n",
      "Processed Text:\n",
      "hello world this is an example text with punctuation\n"
     ]
    }
   ],
   "source": [
    "print(\"Original Text:\")\n",
    "print(example_text)\n",
    "print(\"\\nProcessed Text:\")\n",
    "print(processed_text)"
   ]
  },
  {
   "cell_type": "code",
   "execution_count": 1,
   "metadata": {},
   "outputs": [],
   "source": [
    "def generate_ngrams(sentence, n):\n",
    "    words = sentence.split()\n",
    "    ngrams = [tuple(words[i:i+n]) for i in range(len(words)-n+1)]\n",
    "    return ngrams"
   ]
  },
  {
   "cell_type": "markdown",
   "metadata": {},
   "source": [
    "Implementing the modified n-gram precision "
   ]
  },
  {
   "cell_type": "code",
   "execution_count": 2,
   "metadata": {},
   "outputs": [],
   "source": [
    "def modified_ngram_precision(ground_truth, translated_text, n):\n",
    "    ground_truth_ngrams = generate_ngrams(ground_truth, n)\n",
    "    translated_text_ngrams = generate_ngrams(translated_text, n)\n",
    "    \n",
    "    ground_truth_ngram_counts = Counter(ground_truth_ngrams)\n",
    "    translated_text_ngram_counts = Counter(translated_text_ngrams)\n",
    "    #for cd in candidate_ngram_counts:\n",
    "    #    print(cd)\n",
    "    \n",
    "    intersection_count = sum(min(translated_text_ngram_counts[ngram], ground_truth_ngram_counts[ngram]) for ngram in translated_text_ngram_counts)\n",
    "    total_count = sum(translated_text_ngram_counts.values())\n",
    "    \n",
    "    precision = intersection_count / total_count if total_count > 0 else 0\n",
    "    return precision"
   ]
  },
  {
   "cell_type": "markdown",
   "metadata": {},
   "source": [
    "for computing precession for all n (n= 1 to N (N=4 here))"
   ]
  },
  {
   "cell_type": "code",
   "execution_count": 7,
   "metadata": {},
   "outputs": [],
   "source": [
    "def compute_precision_for_all_n(ground_truth, translated_text, N):\n",
    "    precision_scores = []\n",
    "    for n in range(1, N+1):\n",
    "        precision = modified_ngram_precision(ground_truth, translated_text, n)\n",
    "        precision_scores.append(precision)\n",
    "    return precision_scores"
   ]
  },
  {
   "cell_type": "markdown",
   "metadata": {},
   "source": [
    "Finally, we compute the BLEU score by "
   ]
  },
  {
   "cell_type": "code",
   "execution_count": 9,
   "metadata": {},
   "outputs": [],
   "source": [
    "def calculate_BLEU(ground_truth, translated_text, N, BP):\n",
    "    precision_scores = compute_precision_for_all_n(ground_truth, translated_text, N)\n",
    "    N = len(precision_scores)\n",
    "    average_log_precision = sum(math.log(score) for score in precision_scores) / N\n",
    "    BLEU = math.exp(average_log_precision)\n",
    "    return BLEU"
   ]
  },
  {
   "cell_type": "code",
   "execution_count": 54,
   "metadata": {},
   "outputs": [
    {
     "name": "stdout",
     "output_type": "stream",
     "text": [
      "BLEU Score: 0.4111336169005197\n"
     ]
    }
   ],
   "source": [
    "x =  \"The boys were playing happily on the ground.\"\n",
    "y =  \"The boys were playing football on the field.\"\n",
    "preprocessed_y = preprocess_text(x)\n",
    "preprocessed_x = preprocess_text(y)\n",
    "N = 4  # Maximum value of n\n",
    "BP = 1  #here it is equal to 1\n",
    "BLEU_score = calculate_BLEU(preprocessed_y, preprocessed_x, N, BP)\n",
    "print(\"BLEU Score:\", BLEU_score)"
   ]
  },
  {
   "cell_type": "code",
   "execution_count": 53,
   "metadata": {},
   "outputs": [],
   "source": [
    "# Modified preprocessing function that operates on a pair of sentences\n",
    "def preprocess_sentence_pairs(sentence_pairs):\n",
    "    preprocessed_pairs = []\n",
    "    for pair in sentence_pairs:\n",
    "        x, y = pair\n",
    "        x_preprocessed = preprocess_text(x)\n",
    "        y_preprocessed = preprocess_text(y)\n",
    "        preprocessed_pair = (x_preprocessed, y_preprocessed)\n",
    "        preprocessed_pairs.append(preprocessed_pair)\n",
    "    return preprocessed_pairs"
   ]
  },
  {
   "cell_type": "code",
   "execution_count": 55,
   "metadata": {},
   "outputs": [],
   "source": [
    "# Given sentence pairs\n",
    "sentence_pairs = [\n",
    "    (\"The cat sat on the mat.\", \"The cat is sitting on the mat.\"),\n",
    "    (\"She sells seashells by the seashore.\", \"She is selling seashells by the seashore.\"),\n",
    "    (\"I enjoy eating sushi!.\", \"I love to eat sushi.\"),\n",
    "    (\"The quick brown fox jumps over the lazy dog.\", \"A fast brown fox jumps over the lazy dog.\"),\n",
    "    (\"He plays the piano beautifully.\", \"He beautifully plays the piano.\")\n",
    "]"
   ]
  },
  {
   "cell_type": "code",
   "execution_count": 56,
   "metadata": {},
   "outputs": [],
   "source": [
    "preprocessed_sentence_pairs = preprocess_sentence_pairs(sentence_pairs)"
   ]
  },
  {
   "cell_type": "code",
   "execution_count": 57,
   "metadata": {},
   "outputs": [
    {
     "name": "stdout",
     "output_type": "stream",
     "text": [
      "Original:\n",
      "[('The cat sat on the mat.', 'The cat is sitting on the mat.'), ('She sells seashells by the seashore.', 'She is selling seashells by the seashore.'), ('I enjoy eating sushi!.', 'I love to eat sushi.'), ('The quick brown fox jumps over the lazy dog.', 'A fast brown fox jumps over the lazy dog.'), ('He plays the piano beautifully.', 'He beautifully plays the piano.')]\n",
      "\n",
      "\n",
      "Preprocessed:\n",
      "[('the cat sat on the mat', 'the cat is sitting on the mat'), ('she sells seashells by the seashore', 'she is selling seashells by the seashore'), ('i enjoy eating sushi', 'i love to eat sushi'), ('the quick brown fox jumps over the lazy dog', 'a fast brown fox jumps over the lazy dog'), ('he plays the piano beautifully', 'he beautifully plays the piano')]\n"
     ]
    }
   ],
   "source": [
    "print(\"Original:\")\n",
    "print(sentence_pairs)\n",
    "print(\"\\n\")\n",
    "print(\"Preprocessed:\")\n",
    "print(preprocessed_sentence_pairs)"
   ]
  },
  {
   "cell_type": "code",
   "execution_count": 58,
   "metadata": {},
   "outputs": [],
   "source": [
    "def generate_ngrams_for_pair(sentence_pair, n):\n",
    "    x_ngrams = generate_ngrams(sentence_pair[0], n)\n",
    "    y_ngrams = generate_ngrams(sentence_pair[1], n)\n",
    "    return x_ngrams, y_ngrams"
   ]
  },
  {
   "cell_type": "code",
   "execution_count": 59,
   "metadata": {},
   "outputs": [],
   "source": [
    "def modified_ngram_precision(ground_truth, translated_text, n):\n",
    "    ground_truth_ngrams = generate_ngrams(ground_truth, n)\n",
    "    translated_text_ngrams = generate_ngrams(translated_text, n)\n",
    "    \n",
    "    ground_truth_ngram_counts = Counter(ground_truth_ngrams)\n",
    "    translated_text_ngram_counts = Counter(translated_text_ngrams)\n",
    "    \n",
    "    intersection_count = sum(min(translated_text_ngram_counts[ngram], ground_truth_ngram_counts[ngram]) for ngram in translated_text_ngram_counts)\n",
    "    total_count = sum(translated_text_ngram_counts.values())\n",
    "    \n",
    "    precision = intersection_count / total_count if total_count > 0 else 0\n",
    "    return precision"
   ]
  },
  {
   "cell_type": "code",
   "execution_count": 60,
   "metadata": {},
   "outputs": [],
   "source": [
    "def compute_precision_for_all_n(ground_truth, translated_text, N):\n",
    "    precision_scores = []\n",
    "    for n in range(1, N+1):\n",
    "        precision = modified_ngram_precision(ground_truth, translated_text, n)\n",
    "        precision_scores.append(precision)\n",
    "    return precision_scores"
   ]
  },
  {
   "cell_type": "code",
   "execution_count": 61,
   "metadata": {},
   "outputs": [],
   "source": [
    "def calculate_BLEU(ground_truth, translated_text, N, BP):\n",
    "    precision_scores = compute_precision_for_all_n(ground_truth, translated_text, N)\n",
    "    N = len(precision_scores)\n",
    "    average_log_precision = sum(math.log(score) if score != 0 else -15 for score in precision_scores) / N  # Set log(0) to a small negative value\n",
    "    BLEU = math.exp(average_log_precision)\n",
    "    return BLEU"
   ]
  },
  {
   "cell_type": "code",
   "execution_count": 50,
   "metadata": {},
   "outputs": [
    {
     "name": "stdout",
     "output_type": "stream",
     "text": [
      "Pair 1 - BLEU Score: 0.012158043249144206\n",
      "Pair 2 - BLEU Score: 0.4347208719449915\n",
      "Pair 3 - BLEU Score: 1.0344323084640302e-05\n",
      "Pair 4 - BLEU Score: 0.7259795291154771\n",
      "Pair 5 - BLEU Score: 0.015026501542113373\n"
     ]
    }
   ],
   "source": [
    "# Preprocess sentence pairs\n",
    "preprocessed_sentence_pairs = preprocess_sentence_pairs(sentence_pairs)\n",
    "\n",
    "# Calculate BLEU score for each pair\n",
    "N = 4  # Maximum value of n\n",
    "BP = 1  #here it is equal to 1\n",
    "for i, pair in enumerate(preprocessed_sentence_pairs):\n",
    "    ground_truth, translated_text = pair\n",
    "    bleu_score = calculate_BLEU(ground_truth, translated_text, N,BP)\n",
    "    print(\"Pair\", i+1, \"- BLEU Score:\", bleu_score)"
   ]
  },
  {
   "cell_type": "code",
   "execution_count": null,
   "metadata": {},
   "outputs": [],
   "source": []
  }
 ],
 "metadata": {
  "kernelspec": {
   "display_name": "Python 3 (ipykernel)",
   "language": "python",
   "name": "python3"
  },
  "language_info": {
   "codemirror_mode": {
    "name": "ipython",
    "version": 3
   },
   "file_extension": ".py",
   "mimetype": "text/x-python",
   "name": "python",
   "nbconvert_exporter": "python",
   "pygments_lexer": "ipython3",
   "version": "3.10.12"
  }
 },
 "nbformat": 4,
 "nbformat_minor": 4
}
